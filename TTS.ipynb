{
 "cells": [
  {
   "cell_type": "code",
   "execution_count": 1,
   "id": "2287ba0b",
   "metadata": {},
   "outputs": [],
   "source": [
    "import pyttsx3\n",
    "\n"
   ]
  },
  {
   "cell_type": "code",
   "execution_count": 2,
   "id": "0c1d14d6",
   "metadata": {},
   "outputs": [],
   "source": [
    "text_speech = pyttsx3.init()"
   ]
  },
  {
   "cell_type": "code",
   "execution_count": 8,
   "id": "de29a476",
   "metadata": {},
   "outputs": [
    {
     "name": "stdout",
     "output_type": "stream",
     "text": [
      "What you want to convert:hi\n"
     ]
    }
   ],
   "source": [
    "answer = input(\"What you want to convert:\")\n",
    "text_speech.say(answer)\n",
    "text_speech.runAndWait()"
   ]
  }
 ],
 "metadata": {
  "kernelspec": {
   "display_name": "Python 3 (ipykernel)",
   "language": "python",
   "name": "python3"
  },
  "language_info": {
   "codemirror_mode": {
    "name": "ipython",
    "version": 3
   },
   "file_extension": ".py",
   "mimetype": "text/x-python",
   "name": "python",
   "nbconvert_exporter": "python",
   "pygments_lexer": "ipython3",
   "version": "3.9.12"
  }
 },
 "nbformat": 4,
 "nbformat_minor": 5
}
